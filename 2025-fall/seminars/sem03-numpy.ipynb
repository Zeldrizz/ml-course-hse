{
  "cells": [
    {
      "cell_type": "markdown",
      "metadata": {
        "id": "cxvmC8X-l8ru"
      },
      "source": [
        "# Машинное обучение 1, ПМИ ФКН ВШЭ\n",
        "\n",
        "## Семинар 3 (`numpy`)"
      ]
    },
    {
      "cell_type": "markdown",
      "metadata": {
        "id": "BfIsD648l8rw"
      },
      "source": [
        "## NumPy\n",
        "\n",
        "**NumPy** — библиотека языка Python, позволяющая (удобно) работать с многомерными массивами и матрицами. Кроме того, NumPy позволяет векторизовать многие вычисления, имеющие место в машинном обучении.\n",
        "\n",
        " - [numpy](http://www.numpy.org)\n",
        " - [numpy tutorial](http://cs231n.github.io/python-numpy-tutorial/)\n",
        " - [100 numpy exercises](http://www.labri.fr/perso/nrougier/teaching/numpy.100/)\n",
        "\n",
        "Кстати, про NumPy недавно вышла [публикация](https://www.nature.com/articles/s41586-020-2649-2) в Nature."
      ]
    },
    {
      "cell_type": "code",
      "execution_count": 1,
      "metadata": {
        "ExecuteTime": {
          "end_time": "2020-09-22T15:42:51.828215Z",
          "start_time": "2020-09-22T15:42:51.698487Z"
        },
        "id": "mcFa_unsl8rx"
      },
      "outputs": [],
      "source": [
        "import numpy as np\n",
        "import warnings\n",
        "warnings.filterwarnings('ignore')"
      ]
    },
    {
      "cell_type": "markdown",
      "metadata": {
        "id": "VxKaLLe0l8ry"
      },
      "source": [
        "Основным типом данных NumPy является многомерный массив элементов одного типа — [numpy.ndarray](http://docs.scipy.org/doc/numpy-1.10.0/reference/generated/numpy.array.html). Каждый подобный массив имеет несколько *измерений* или *осей* — в частности, вектор (в классическом понимании) является одномерным массивом и имеет 1 ось, матрица является двумерным массивом и имеет 2 оси и т.д."
      ]
    },
    {
      "cell_type": "code",
      "execution_count": 2,
      "metadata": {
        "ExecuteTime": {
          "end_time": "2020-09-22T15:42:51.842022Z",
          "start_time": "2020-09-22T15:42:51.830534Z"
        },
        "colab": {
          "base_uri": "https://localhost:8080/"
        },
        "id": "x6ZY1IeFl8ry",
        "outputId": "f1e934b7-4e2c-4800-f796-45b56d20d1a2"
      },
      "outputs": [
        {
          "output_type": "execute_result",
          "data": {
            "text/plain": [
              "1"
            ]
          },
          "metadata": {},
          "execution_count": 2
        }
      ],
      "source": [
        "vec = np.array([1, 2, 3])\n",
        "vec.ndim # количество осей"
      ]
    },
    {
      "cell_type": "code",
      "execution_count": 3,
      "metadata": {
        "ExecuteTime": {
          "end_time": "2020-09-22T15:42:51.848899Z",
          "start_time": "2020-09-22T15:42:51.844661Z"
        },
        "colab": {
          "base_uri": "https://localhost:8080/"
        },
        "id": "CerCjxA1l8rz",
        "outputId": "2616b373-0fa2-443e-f982-24b9804731e6"
      },
      "outputs": [
        {
          "output_type": "execute_result",
          "data": {
            "text/plain": [
              "2"
            ]
          },
          "metadata": {},
          "execution_count": 3
        }
      ],
      "source": [
        "mat = np.array([[1, 2, 3], [4, 5, 6]])\n",
        "mat.ndim"
      ]
    },
    {
      "cell_type": "markdown",
      "metadata": {
        "id": "xFqdVo8ml8rz"
      },
      "source": [
        "Чтобы узнать длину массива по каждой из осей, можно воспользоваться атрибутом shape:"
      ]
    },
    {
      "cell_type": "code",
      "execution_count": 4,
      "metadata": {
        "ExecuteTime": {
          "end_time": "2020-09-22T15:42:51.854991Z",
          "start_time": "2020-09-22T15:42:51.851142Z"
        },
        "colab": {
          "base_uri": "https://localhost:8080/"
        },
        "id": "0yRXAVxZl8r0",
        "outputId": "f40d5f33-5ea7-4ab6-b3bc-d9bec206fbab"
      },
      "outputs": [
        {
          "output_type": "execute_result",
          "data": {
            "text/plain": [
              "(3,)"
            ]
          },
          "metadata": {},
          "execution_count": 4
        }
      ],
      "source": [
        "vec.shape"
      ]
    },
    {
      "cell_type": "markdown",
      "metadata": {
        "id": "s_idgKCul8r0"
      },
      "source": [
        "Чтобы узнать тип элементов и их размер в байтах:"
      ]
    },
    {
      "cell_type": "code",
      "execution_count": 5,
      "metadata": {
        "ExecuteTime": {
          "end_time": "2020-09-22T15:42:51.865162Z",
          "start_time": "2020-09-22T15:42:51.857049Z"
        },
        "colab": {
          "base_uri": "https://localhost:8080/",
          "height": 35
        },
        "id": "ARbDfn1fl8r0",
        "outputId": "a03d9ea2-df0b-4d6c-c547-cb6d3c391869"
      },
      "outputs": [
        {
          "output_type": "execute_result",
          "data": {
            "text/plain": [
              "'int64'"
            ],
            "application/vnd.google.colaboratory.intrinsic+json": {
              "type": "string"
            }
          },
          "metadata": {},
          "execution_count": 5
        }
      ],
      "source": [
        "mat.dtype.name"
      ]
    },
    {
      "cell_type": "code",
      "execution_count": 6,
      "metadata": {
        "ExecuteTime": {
          "end_time": "2020-09-22T15:42:51.871563Z",
          "start_time": "2020-09-22T15:42:51.867576Z"
        },
        "colab": {
          "base_uri": "https://localhost:8080/"
        },
        "id": "RLCbXcP-l8r1",
        "outputId": "3dc2159c-0bd1-4928-d48c-d93189e006ce"
      },
      "outputs": [
        {
          "output_type": "execute_result",
          "data": {
            "text/plain": [
              "8"
            ]
          },
          "metadata": {},
          "execution_count": 6
        }
      ],
      "source": [
        "mat.itemsize"
      ]
    },
    {
      "cell_type": "markdown",
      "metadata": {
        "id": "4Jd5v3WBl8r1"
      },
      "source": [
        "#### Создание массивов\n",
        "\n",
        "Есть несколько способов сформировать массив в NumPy:\n",
        "\n",
        "* Передать итерируемый объект в качестве параметра функции array (можно также явно указать тип элементов):"
      ]
    },
    {
      "cell_type": "code",
      "execution_count": 7,
      "metadata": {
        "ExecuteTime": {
          "end_time": "2020-09-22T15:42:51.878946Z",
          "start_time": "2020-09-22T15:42:51.874042Z"
        },
        "colab": {
          "base_uri": "https://localhost:8080/"
        },
        "id": "uoWSL-URl8r1",
        "outputId": "54680960-48dd-4bf4-81ae-3330dbc6ea6e"
      },
      "outputs": [
        {
          "output_type": "execute_result",
          "data": {
            "text/plain": [
              "(array([1, 2, 3]), dtype('int64'))"
            ]
          },
          "metadata": {},
          "execution_count": 7
        }
      ],
      "source": [
        "A = np.array([1, 2, 3])\n",
        "A, A.dtype"
      ]
    },
    {
      "cell_type": "code",
      "execution_count": 8,
      "metadata": {
        "ExecuteTime": {
          "end_time": "2020-09-22T15:42:51.887234Z",
          "start_time": "2020-09-22T15:42:51.882620Z"
        },
        "colab": {
          "base_uri": "https://localhost:8080/"
        },
        "id": "0wkiPoull8r1",
        "outputId": "f8cdf86b-70ea-4aee-c265-99946cdaa8ec"
      },
      "outputs": [
        {
          "output_type": "execute_result",
          "data": {
            "text/plain": [
              "(array([1., 2., 3.]), dtype('float64'))"
            ]
          },
          "metadata": {},
          "execution_count": 8
        }
      ],
      "source": [
        "A = np.array([1, 2, 3], dtype=float)\n",
        "A, A.dtype"
      ]
    },
    {
      "cell_type": "markdown",
      "metadata": {
        "id": "1ujQZ7xbl8r2"
      },
      "source": [
        "* Воспользоваться функциями zeros, ones, empty, identity, если вам нужен объект специального вида:"
      ]
    },
    {
      "cell_type": "code",
      "execution_count": 9,
      "metadata": {
        "ExecuteTime": {
          "end_time": "2020-09-22T15:42:51.893393Z",
          "start_time": "2020-09-22T15:42:51.889888Z"
        },
        "colab": {
          "base_uri": "https://localhost:8080/"
        },
        "id": "_f-9U0A3l8r2",
        "outputId": "3728d8ad-568f-432a-a90e-38d22b19613b"
      },
      "outputs": [
        {
          "output_type": "execute_result",
          "data": {
            "text/plain": [
              "array([0., 0., 0.])"
            ]
          },
          "metadata": {},
          "execution_count": 9
        }
      ],
      "source": [
        "np.zeros((3,))"
      ]
    },
    {
      "cell_type": "code",
      "execution_count": 10,
      "metadata": {
        "ExecuteTime": {
          "end_time": "2020-09-22T15:42:51.898550Z",
          "start_time": "2020-09-22T15:42:51.894863Z"
        },
        "colab": {
          "base_uri": "https://localhost:8080/"
        },
        "id": "5SMXYH0Zl8r2",
        "outputId": "68992eca-0434-416a-94e9-d3fbf1c86fd6"
      },
      "outputs": [
        {
          "output_type": "execute_result",
          "data": {
            "text/plain": [
              "array([[1., 1., 1., 1.],\n",
              "       [1., 1., 1., 1.],\n",
              "       [1., 1., 1., 1.]])"
            ]
          },
          "metadata": {},
          "execution_count": 10
        }
      ],
      "source": [
        "np.ones((3, 4))"
      ]
    },
    {
      "cell_type": "code",
      "execution_count": 11,
      "metadata": {
        "ExecuteTime": {
          "end_time": "2020-09-22T15:42:51.903530Z",
          "start_time": "2020-09-22T15:42:51.900141Z"
        },
        "colab": {
          "base_uri": "https://localhost:8080/"
        },
        "id": "NHzkWLWMl8r2",
        "outputId": "3c4441d1-1f11-496c-9184-a2219a5bfb7e"
      },
      "outputs": [
        {
          "output_type": "execute_result",
          "data": {
            "text/plain": [
              "array([[1., 0., 0.],\n",
              "       [0., 1., 0.],\n",
              "       [0., 0., 1.]])"
            ]
          },
          "metadata": {},
          "execution_count": 11
        }
      ],
      "source": [
        "np.identity(3)"
      ]
    },
    {
      "cell_type": "markdown",
      "metadata": {
        "id": "psj1I_cql8r2"
      },
      "source": [
        "* Воспользоваться функциями arange (в качестве параметров принимает левую и правую границы последовательности и **шаг**) и linspace (принимает левую и правую границы и **количество элементов**) для формирования последовательностей:"
      ]
    },
    {
      "cell_type": "code",
      "execution_count": 12,
      "metadata": {
        "ExecuteTime": {
          "end_time": "2020-09-22T15:42:51.908583Z",
          "start_time": "2020-09-22T15:42:51.905271Z"
        },
        "colab": {
          "base_uri": "https://localhost:8080/"
        },
        "id": "5BMKzY5Gl8r3",
        "outputId": "4285ac10-20be-41d0-f82c-e5294d66c76d"
      },
      "outputs": [
        {
          "output_type": "execute_result",
          "data": {
            "text/plain": [
              "array([ 2,  5,  8, 11, 14, 17])"
            ]
          },
          "metadata": {},
          "execution_count": 12
        }
      ],
      "source": [
        "np.arange(2, 20, 3) # аналогично стандартной функции range python, правая граница не включается"
      ]
    },
    {
      "cell_type": "code",
      "execution_count": 13,
      "metadata": {
        "ExecuteTime": {
          "end_time": "2020-09-22T15:42:51.913731Z",
          "start_time": "2020-09-22T15:42:51.910114Z"
        },
        "colab": {
          "base_uri": "https://localhost:8080/"
        },
        "id": "Rf4ULee-l8r3",
        "outputId": "7d5c9b18-92b8-47cc-ef35-44d97cddcc00"
      },
      "outputs": [
        {
          "output_type": "execute_result",
          "data": {
            "text/plain": [
              "array([2.5, 3.4, 4.3, 5.2, 6.1, 7. , 7.9])"
            ]
          },
          "metadata": {},
          "execution_count": 13
        }
      ],
      "source": [
        "np.arange(2.5, 8.7, 0.9) # но может работать и с вещественными числами"
      ]
    },
    {
      "cell_type": "code",
      "execution_count": 14,
      "metadata": {
        "ExecuteTime": {
          "end_time": "2020-09-22T15:42:51.918947Z",
          "start_time": "2020-09-22T15:42:51.915578Z"
        },
        "colab": {
          "base_uri": "https://localhost:8080/"
        },
        "id": "e8mdDv67l8r3",
        "outputId": "300f21d7-3b01-46cb-c1ce-1f9f4da72c37"
      },
      "outputs": [
        {
          "output_type": "execute_result",
          "data": {
            "text/plain": [
              "array([ 2.        ,  3.23076923,  4.46153846,  5.69230769,  6.92307692,\n",
              "        8.15384615,  9.38461538, 10.61538462, 11.84615385, 13.07692308,\n",
              "       14.30769231, 15.53846154, 16.76923077, 18.        ])"
            ]
          },
          "metadata": {},
          "execution_count": 14
        }
      ],
      "source": [
        "np.linspace(2, 18, 14) # правая граница включается (по умолчанию)"
      ]
    },
    {
      "cell_type": "markdown",
      "metadata": {
        "id": "uZprf5EOl8r3"
      },
      "source": [
        "* Изменить размеры существующего массива с помощью reshape (при этом количество элементов должно оставаться неизменным):"
      ]
    },
    {
      "cell_type": "code",
      "execution_count": 15,
      "metadata": {
        "ExecuteTime": {
          "end_time": "2020-09-22T15:42:51.923959Z",
          "start_time": "2020-09-22T15:42:51.920505Z"
        },
        "colab": {
          "base_uri": "https://localhost:8080/"
        },
        "id": "KCBALFsMl8r3",
        "outputId": "5f13616c-7e4e-44ae-95d5-6fbf363f46dd"
      },
      "outputs": [
        {
          "output_type": "execute_result",
          "data": {
            "text/plain": [
              "array([[0, 1, 2],\n",
              "       [3, 4, 5],\n",
              "       [6, 7, 8]])"
            ]
          },
          "metadata": {},
          "execution_count": 15
        }
      ],
      "source": [
        "np.arange(9).reshape(3, 3)"
      ]
    },
    {
      "cell_type": "markdown",
      "metadata": {
        "id": "zKXLcyMkl8r4"
      },
      "source": [
        "Вместо значения длины массива по одному из измерений можно указать -1 — в этом случае значение будет рассчитано автоматически:"
      ]
    },
    {
      "cell_type": "code",
      "execution_count": 16,
      "metadata": {
        "ExecuteTime": {
          "end_time": "2020-09-22T15:42:51.929133Z",
          "start_time": "2020-09-22T15:42:51.925453Z"
        },
        "scrolled": false,
        "colab": {
          "base_uri": "https://localhost:8080/"
        },
        "id": "zMLmlGXil8r4",
        "outputId": "77f436e5-41ea-46d0-d2b0-0494d4b3ca64"
      },
      "outputs": [
        {
          "output_type": "execute_result",
          "data": {
            "text/plain": [
              "array([[0, 1, 2, 3],\n",
              "       [4, 5, 6, 7]])"
            ]
          },
          "metadata": {},
          "execution_count": 16
        }
      ],
      "source": [
        "np.arange(8).reshape(2, -1)"
      ]
    },
    {
      "cell_type": "markdown",
      "metadata": {
        "id": "3q6UNq42l8r4"
      },
      "source": [
        "* Транспонировать существующий массив:"
      ]
    },
    {
      "cell_type": "code",
      "execution_count": 17,
      "metadata": {
        "ExecuteTime": {
          "end_time": "2020-09-22T15:42:51.933803Z",
          "start_time": "2020-09-22T15:42:51.930599Z"
        },
        "colab": {
          "base_uri": "https://localhost:8080/"
        },
        "id": "z1q0Y3uWl8r4",
        "outputId": "3344c4c5-e177-4105-de0c-590050917be7"
      },
      "outputs": [
        {
          "output_type": "execute_result",
          "data": {
            "text/plain": [
              "array([[0, 1, 2],\n",
              "       [3, 4, 5]])"
            ]
          },
          "metadata": {},
          "execution_count": 17
        }
      ],
      "source": [
        "C = np.arange(6).reshape(2, -1)\n",
        "C"
      ]
    },
    {
      "cell_type": "code",
      "execution_count": 18,
      "metadata": {
        "ExecuteTime": {
          "end_time": "2020-09-22T15:42:51.938143Z",
          "start_time": "2020-09-22T15:42:51.935159Z"
        },
        "colab": {
          "base_uri": "https://localhost:8080/"
        },
        "id": "4wJ1UYd9l8r4",
        "outputId": "64f1787b-b575-4f82-f896-976a83e4f999"
      },
      "outputs": [
        {
          "output_type": "execute_result",
          "data": {
            "text/plain": [
              "array([[0, 3],\n",
              "       [1, 4],\n",
              "       [2, 5]])"
            ]
          },
          "metadata": {},
          "execution_count": 18
        }
      ],
      "source": [
        "C.T"
      ]
    },
    {
      "cell_type": "markdown",
      "metadata": {
        "id": "v2P5k_evl8r4"
      },
      "source": [
        "* Повторить существующий массив:"
      ]
    },
    {
      "cell_type": "code",
      "execution_count": 19,
      "metadata": {
        "ExecuteTime": {
          "end_time": "2020-09-22T15:42:51.943090Z",
          "start_time": "2020-09-22T15:42:51.939583Z"
        },
        "colab": {
          "base_uri": "https://localhost:8080/"
        },
        "id": "6W-l86p2l8r4",
        "outputId": "f9b4c9c1-c71f-41fb-d283-aa0eeebeedfa"
      },
      "outputs": [
        {
          "output_type": "execute_result",
          "data": {
            "text/plain": [
              "array([[0, 1, 2, 0, 1, 2],\n",
              "       [0, 1, 2, 0, 1, 2]])"
            ]
          },
          "metadata": {},
          "execution_count": 19
        }
      ],
      "source": [
        "a = np.arange(3)\n",
        "np.tile(a, (2, 2))"
      ]
    },
    {
      "cell_type": "code",
      "execution_count": 20,
      "metadata": {
        "ExecuteTime": {
          "end_time": "2020-09-22T15:42:51.947733Z",
          "start_time": "2020-09-22T15:42:51.944564Z"
        },
        "colab": {
          "base_uri": "https://localhost:8080/"
        },
        "id": "SuJ5vEyll8r5",
        "outputId": "04e9062f-f11c-41d9-a647-af22b74fb90b"
      },
      "outputs": [
        {
          "output_type": "execute_result",
          "data": {
            "text/plain": [
              "array([[0, 1, 2],\n",
              "       [0, 1, 2],\n",
              "       [0, 1, 2],\n",
              "       [0, 1, 2]])"
            ]
          },
          "metadata": {},
          "execution_count": 20
        }
      ],
      "source": [
        "np.tile(a, (4, 1))"
      ]
    },
    {
      "cell_type": "markdown",
      "metadata": {
        "id": "vnH5qt8il8r5"
      },
      "source": [
        "#### Базовые операции\n",
        "\n",
        "* Базовые арифметические операции над массивами выполняются поэлементно:"
      ]
    },
    {
      "cell_type": "code",
      "execution_count": 21,
      "metadata": {
        "ExecuteTime": {
          "end_time": "2020-09-22T15:42:51.951681Z",
          "start_time": "2020-09-22T15:42:51.949257Z"
        },
        "id": "0zuhxkl5l8r5"
      },
      "outputs": [],
      "source": [
        "A = np.arange(9).reshape(3, 3)\n",
        "B = np.arange(1, 10).reshape(3, 3)"
      ]
    },
    {
      "cell_type": "code",
      "execution_count": 22,
      "metadata": {
        "ExecuteTime": {
          "end_time": "2020-09-22T15:42:51.957595Z",
          "start_time": "2020-09-22T15:42:51.954043Z"
        },
        "colab": {
          "base_uri": "https://localhost:8080/"
        },
        "id": "i3GZYoGrl8r5",
        "outputId": "fe43b9f9-a8d9-44a5-a044-883bc40dcae5"
      },
      "outputs": [
        {
          "output_type": "stream",
          "name": "stdout",
          "text": [
            "[[0 1 2]\n",
            " [3 4 5]\n",
            " [6 7 8]]\n",
            "[[1 2 3]\n",
            " [4 5 6]\n",
            " [7 8 9]]\n"
          ]
        }
      ],
      "source": [
        "print(A)\n",
        "print(B)"
      ]
    },
    {
      "cell_type": "code",
      "execution_count": 23,
      "metadata": {
        "ExecuteTime": {
          "end_time": "2020-09-22T15:42:51.964000Z",
          "start_time": "2020-09-22T15:42:51.960861Z"
        },
        "colab": {
          "base_uri": "https://localhost:8080/"
        },
        "id": "OlVAPmLNl8r5",
        "outputId": "2643e444-9232-4983-91d6-0e3624d011ae"
      },
      "outputs": [
        {
          "output_type": "execute_result",
          "data": {
            "text/plain": [
              "array([[ 1,  3,  5],\n",
              "       [ 7,  9, 11],\n",
              "       [13, 15, 17]])"
            ]
          },
          "metadata": {},
          "execution_count": 23
        }
      ],
      "source": [
        "A + B"
      ]
    },
    {
      "cell_type": "code",
      "execution_count": 24,
      "metadata": {
        "ExecuteTime": {
          "end_time": "2020-09-22T15:42:51.969202Z",
          "start_time": "2020-09-22T15:42:51.966077Z"
        },
        "colab": {
          "base_uri": "https://localhost:8080/"
        },
        "id": "zNAKCXNil8r5",
        "outputId": "363ace0f-ed05-47d1-dc49-3f0f976839eb"
      },
      "outputs": [
        {
          "output_type": "execute_result",
          "data": {
            "text/plain": [
              "array([[0.        , 0.5       , 0.66666667],\n",
              "       [0.75      , 0.8       , 0.83333333],\n",
              "       [0.85714286, 0.875     , 0.88888889]])"
            ]
          },
          "metadata": {},
          "execution_count": 24
        }
      ],
      "source": [
        "A * 1.0 / B"
      ]
    },
    {
      "cell_type": "code",
      "execution_count": 25,
      "metadata": {
        "ExecuteTime": {
          "end_time": "2020-09-22T15:42:51.974197Z",
          "start_time": "2020-09-22T15:42:51.970594Z"
        },
        "colab": {
          "base_uri": "https://localhost:8080/"
        },
        "id": "6_D1Hh8wl8r6",
        "outputId": "54fc4959-1600-42b3-facb-25957df38bd1"
      },
      "outputs": [
        {
          "output_type": "execute_result",
          "data": {
            "text/plain": [
              "array([[1, 2, 3],\n",
              "       [4, 5, 6],\n",
              "       [7, 8, 9]])"
            ]
          },
          "metadata": {},
          "execution_count": 25
        }
      ],
      "source": [
        "A + 1"
      ]
    },
    {
      "cell_type": "code",
      "execution_count": 26,
      "metadata": {
        "ExecuteTime": {
          "end_time": "2020-09-22T15:42:51.978713Z",
          "start_time": "2020-09-22T15:42:51.975679Z"
        },
        "colab": {
          "base_uri": "https://localhost:8080/"
        },
        "id": "27VT9xQBl8r6",
        "outputId": "84f7d674-313c-4c66-9fe4-fb817d4bf5ba"
      },
      "outputs": [
        {
          "output_type": "execute_result",
          "data": {
            "text/plain": [
              "array([[ 0,  3,  6],\n",
              "       [ 9, 12, 15],\n",
              "       [18, 21, 24]])"
            ]
          },
          "metadata": {},
          "execution_count": 26
        }
      ],
      "source": [
        "3 * A"
      ]
    },
    {
      "cell_type": "code",
      "execution_count": 27,
      "metadata": {
        "ExecuteTime": {
          "end_time": "2020-09-22T15:42:51.983697Z",
          "start_time": "2020-09-22T15:42:51.980254Z"
        },
        "colab": {
          "base_uri": "https://localhost:8080/"
        },
        "id": "mvAZtOn4l8sE",
        "outputId": "d511d4eb-6a02-4dd3-b78a-64dcca1c5beb"
      },
      "outputs": [
        {
          "output_type": "execute_result",
          "data": {
            "text/plain": [
              "array([[ 0,  1,  4],\n",
              "       [ 9, 16, 25],\n",
              "       [36, 49, 64]])"
            ]
          },
          "metadata": {},
          "execution_count": 27
        }
      ],
      "source": [
        "A ** 2"
      ]
    },
    {
      "cell_type": "markdown",
      "metadata": {
        "id": "kFMwFpMGl8sE"
      },
      "source": [
        "Отдельно обратим внимание на то, что умножение массивов также является **поэлементным**, а не матричным:"
      ]
    },
    {
      "cell_type": "code",
      "execution_count": 28,
      "metadata": {
        "ExecuteTime": {
          "end_time": "2020-09-22T15:42:51.990640Z",
          "start_time": "2020-09-22T15:42:51.985073Z"
        },
        "colab": {
          "base_uri": "https://localhost:8080/"
        },
        "id": "NwEAye1yl8sE",
        "outputId": "435ff610-618b-4a43-d753-bf6ffc0b5105"
      },
      "outputs": [
        {
          "output_type": "execute_result",
          "data": {
            "text/plain": [
              "array([[ 0,  2,  6],\n",
              "       [12, 20, 30],\n",
              "       [42, 56, 72]])"
            ]
          },
          "metadata": {},
          "execution_count": 28
        }
      ],
      "source": [
        "A * B"
      ]
    },
    {
      "cell_type": "markdown",
      "metadata": {
        "id": "doWe8Xk-l8sF"
      },
      "source": [
        "Для выполнения матричного умножения необходимо использовать функцию dot:"
      ]
    },
    {
      "cell_type": "code",
      "execution_count": 29,
      "metadata": {
        "ExecuteTime": {
          "end_time": "2020-09-22T15:42:51.995038Z",
          "start_time": "2020-09-22T15:42:51.991988Z"
        },
        "colab": {
          "base_uri": "https://localhost:8080/"
        },
        "id": "F37pJN_0l8sF",
        "outputId": "a80aa449-2f41-42a5-9c2b-677a593b04dd"
      },
      "outputs": [
        {
          "output_type": "execute_result",
          "data": {
            "text/plain": [
              "array([[ 18,  21,  24],\n",
              "       [ 54,  66,  78],\n",
              "       [ 90, 111, 132]])"
            ]
          },
          "metadata": {},
          "execution_count": 29
        }
      ],
      "source": [
        "A.dot(B)"
      ]
    },
    {
      "cell_type": "markdown",
      "metadata": {
        "id": "iPUvUqQgl8sF"
      },
      "source": [
        "Для умножения векторов или матриц можно также использовать оператор `@`:"
      ]
    },
    {
      "cell_type": "code",
      "execution_count": 30,
      "metadata": {
        "ExecuteTime": {
          "end_time": "2020-09-22T15:42:51.999446Z",
          "start_time": "2020-09-22T15:42:51.996579Z"
        },
        "colab": {
          "base_uri": "https://localhost:8080/"
        },
        "id": "hzNiMwhkl8sF",
        "outputId": "af689f90-9eb3-4b22-b833-c611fcb28b18"
      },
      "outputs": [
        {
          "output_type": "execute_result",
          "data": {
            "text/plain": [
              "array([[ 18,  21,  24],\n",
              "       [ 54,  66,  78],\n",
              "       [ 90, 111, 132]])"
            ]
          },
          "metadata": {},
          "execution_count": 30
        }
      ],
      "source": [
        "A @ B"
      ]
    },
    {
      "cell_type": "code",
      "execution_count": 31,
      "metadata": {
        "ExecuteTime": {
          "end_time": "2020-09-22T15:42:52.004093Z",
          "start_time": "2020-09-22T15:42:52.000788Z"
        },
        "colab": {
          "base_uri": "https://localhost:8080/"
        },
        "id": "KMOKmclJl8sF",
        "outputId": "773441f5-7bf6-4ac7-cd2b-cd091c26838c"
      },
      "outputs": [
        {
          "output_type": "execute_result",
          "data": {
            "text/plain": [
              "np.int64(10)"
            ]
          },
          "metadata": {},
          "execution_count": 31
        }
      ],
      "source": [
        "np.array([1, 2, 3, 4]) @ np.array([1, 1, 1, 1])"
      ]
    },
    {
      "cell_type": "markdown",
      "metadata": {
        "id": "YS_03iMel8sG"
      },
      "source": [
        "Поскольку операции выполняются поэлементно, операнды бинарных операций должны иметь одинаковый размер. Тем не менее, операция может быть корректно выполнена, если размеры операндов таковы, что они могут быть расширены до одинаковых размеров. Данная возможность называется [broadcasting](http://www.scipy-lectures.org/intro/numpy/operations.html#broadcasting):\n",
        "\n",
        "![](https://jakevdp.github.io/PythonDataScienceHandbook/figures/02.05-broadcasting.png)"
      ]
    },
    {
      "cell_type": "code",
      "execution_count": 32,
      "metadata": {
        "ExecuteTime": {
          "end_time": "2020-09-22T15:42:52.011906Z",
          "start_time": "2020-09-22T15:42:52.005614Z"
        },
        "colab": {
          "base_uri": "https://localhost:8080/"
        },
        "id": "jztXclQBl8sG",
        "outputId": "06c4b4c4-669e-4e69-d13d-9de7ba37a5c9"
      },
      "outputs": [
        {
          "output_type": "execute_result",
          "data": {
            "text/plain": [
              "array([[ 0,  1,  2],\n",
              "       [10, 11, 12],\n",
              "       [20, 21, 22],\n",
              "       [30, 31, 32]])"
            ]
          },
          "metadata": {},
          "execution_count": 32
        }
      ],
      "source": [
        "np.tile(np.arange(0, 40, 10), (3, 1)).T + np.array([0, 1, 2])"
      ]
    },
    {
      "cell_type": "markdown",
      "metadata": {
        "id": "unOyRqOcl8sG"
      },
      "source": [
        "* Некоторые операции над массивами (например, вычисления минимума, максимума, суммы элементов) выполняются над всеми элементами вне зависимости от формы массива, однако при указании оси выполняются вдоль нее (например, для нахождения максимума каждой строки или каждого столбца):"
      ]
    },
    {
      "cell_type": "code",
      "execution_count": 33,
      "metadata": {
        "ExecuteTime": {
          "end_time": "2020-09-22T15:42:52.023902Z",
          "start_time": "2020-09-22T15:42:52.020457Z"
        },
        "colab": {
          "base_uri": "https://localhost:8080/"
        },
        "id": "_8-9keBjl8sG",
        "outputId": "fc451c90-b829-43e8-ac5a-e59d4b87eb3b"
      },
      "outputs": [
        {
          "output_type": "execute_result",
          "data": {
            "text/plain": [
              "array([[0, 1, 2],\n",
              "       [3, 4, 5],\n",
              "       [6, 7, 8]])"
            ]
          },
          "metadata": {},
          "execution_count": 33
        }
      ],
      "source": [
        "A"
      ]
    },
    {
      "cell_type": "code",
      "execution_count": 34,
      "metadata": {
        "ExecuteTime": {
          "end_time": "2020-09-22T15:42:52.028517Z",
          "start_time": "2020-09-22T15:42:52.025419Z"
        },
        "colab": {
          "base_uri": "https://localhost:8080/"
        },
        "id": "BiC-wHgQl8sG",
        "outputId": "4c0e8403-9cd4-484c-f367-d747fb683095"
      },
      "outputs": [
        {
          "output_type": "execute_result",
          "data": {
            "text/plain": [
              "np.int64(0)"
            ]
          },
          "metadata": {},
          "execution_count": 34
        }
      ],
      "source": [
        "A.min()"
      ]
    },
    {
      "cell_type": "code",
      "execution_count": 35,
      "metadata": {
        "ExecuteTime": {
          "end_time": "2020-09-22T15:42:52.033907Z",
          "start_time": "2020-09-22T15:42:52.030567Z"
        },
        "colab": {
          "base_uri": "https://localhost:8080/"
        },
        "id": "8mQN2Mn3l8sG",
        "outputId": "1d510785-6d77-4197-f801-6211eb0122b5"
      },
      "outputs": [
        {
          "output_type": "execute_result",
          "data": {
            "text/plain": [
              "array([2, 5, 8])"
            ]
          },
          "metadata": {},
          "execution_count": 35
        }
      ],
      "source": [
        "A.max(axis=1)"
      ]
    },
    {
      "cell_type": "code",
      "execution_count": 36,
      "metadata": {
        "ExecuteTime": {
          "end_time": "2020-09-22T15:42:52.047824Z",
          "start_time": "2020-09-22T15:42:52.035571Z"
        },
        "colab": {
          "base_uri": "https://localhost:8080/"
        },
        "id": "u_IadYmll8sH",
        "outputId": "49c2e092-fb7b-452d-bd89-6a59009e2fba"
      },
      "outputs": [
        {
          "output_type": "execute_result",
          "data": {
            "text/plain": [
              "array([ 3, 12, 21])"
            ]
          },
          "metadata": {},
          "execution_count": 36
        }
      ],
      "source": [
        "A.sum(axis=1)"
      ]
    },
    {
      "cell_type": "markdown",
      "metadata": {
        "id": "S4z83ltGl8sH"
      },
      "source": [
        "#### Индексация\n",
        "\n",
        "Для доступа к элементам может использоваться [много различных способов](http://docs.scipy.org/doc/numpy/reference/arrays.indexing.html), рассмотрим основные.\n",
        "\n",
        "* Для индексации могут использоваться конкретные значения индексов и срезы (slice), как и в стандартных типах Python. Для многомерных массивов индексы для различных осей разделяются запятой. Если для многомерного массива указаны индексы не для всех измерений, недостающие заполняются полным срезом (:)."
      ]
    },
    {
      "cell_type": "code",
      "execution_count": 37,
      "metadata": {
        "ExecuteTime": {
          "end_time": "2020-09-22T15:42:52.053659Z",
          "start_time": "2020-09-22T15:42:52.049560Z"
        },
        "colab": {
          "base_uri": "https://localhost:8080/"
        },
        "id": "04Ph2AFCl8sH",
        "outputId": "6c9e03d0-af7a-4f56-d401-915d05a8a97e"
      },
      "outputs": [
        {
          "output_type": "execute_result",
          "data": {
            "text/plain": [
              "array([0, 1, 2, 3, 4, 5, 6, 7, 8, 9])"
            ]
          },
          "metadata": {},
          "execution_count": 37
        }
      ],
      "source": [
        "a = np.arange(10)\n",
        "a"
      ]
    },
    {
      "cell_type": "code",
      "execution_count": 38,
      "metadata": {
        "ExecuteTime": {
          "end_time": "2020-09-22T15:42:52.061600Z",
          "start_time": "2020-09-22T15:42:52.055403Z"
        },
        "colab": {
          "base_uri": "https://localhost:8080/"
        },
        "id": "tD1CLlsFl8sH",
        "outputId": "07a852a5-1bad-4137-a222-cc8ee149683a"
      },
      "outputs": [
        {
          "output_type": "execute_result",
          "data": {
            "text/plain": [
              "array([2, 3, 4])"
            ]
          },
          "metadata": {},
          "execution_count": 38
        }
      ],
      "source": [
        "a[2:5]"
      ]
    },
    {
      "cell_type": "code",
      "execution_count": 39,
      "metadata": {
        "ExecuteTime": {
          "end_time": "2020-09-22T15:42:52.067935Z",
          "start_time": "2020-09-22T15:42:52.063842Z"
        },
        "colab": {
          "base_uri": "https://localhost:8080/"
        },
        "id": "ROHKZ8Jil8sI",
        "outputId": "c28cdf7b-42f3-4a0d-e8a0-d8793bbb550c"
      },
      "outputs": [
        {
          "output_type": "execute_result",
          "data": {
            "text/plain": [
              "array([3, 5, 7])"
            ]
          },
          "metadata": {},
          "execution_count": 39
        }
      ],
      "source": [
        "a[3:8:2]"
      ]
    },
    {
      "cell_type": "code",
      "execution_count": 40,
      "metadata": {
        "ExecuteTime": {
          "end_time": "2020-09-22T15:42:52.074833Z",
          "start_time": "2020-09-22T15:42:52.070054Z"
        },
        "colab": {
          "base_uri": "https://localhost:8080/"
        },
        "id": "eGqOSHKsl8sI",
        "outputId": "fd74c849-eee2-41a3-d99c-71c010708368"
      },
      "outputs": [
        {
          "output_type": "execute_result",
          "data": {
            "text/plain": [
              "array([[ 0,  1,  2,  3,  4,  5,  6,  7,  8],\n",
              "       [ 9, 10, 11, 12, 13, 14, 15, 16, 17],\n",
              "       [18, 19, 20, 21, 22, 23, 24, 25, 26],\n",
              "       [27, 28, 29, 30, 31, 32, 33, 34, 35],\n",
              "       [36, 37, 38, 39, 40, 41, 42, 43, 44],\n",
              "       [45, 46, 47, 48, 49, 50, 51, 52, 53],\n",
              "       [54, 55, 56, 57, 58, 59, 60, 61, 62],\n",
              "       [63, 64, 65, 66, 67, 68, 69, 70, 71],\n",
              "       [72, 73, 74, 75, 76, 77, 78, 79, 80]])"
            ]
          },
          "metadata": {},
          "execution_count": 40
        }
      ],
      "source": [
        "A = np.arange(81).reshape(9, -1)\n",
        "A"
      ]
    },
    {
      "cell_type": "code",
      "execution_count": 41,
      "metadata": {
        "ExecuteTime": {
          "end_time": "2020-09-22T15:42:52.081227Z",
          "start_time": "2020-09-22T15:42:52.077236Z"
        },
        "colab": {
          "base_uri": "https://localhost:8080/"
        },
        "id": "m4yAC7-Sl8sI",
        "outputId": "089cfb3f-66fc-4da7-de67-1ed4bf6dc58b"
      },
      "outputs": [
        {
          "output_type": "execute_result",
          "data": {
            "text/plain": [
              "array([[18, 19, 20, 21, 22, 23, 24, 25, 26],\n",
              "       [27, 28, 29, 30, 31, 32, 33, 34, 35]])"
            ]
          },
          "metadata": {},
          "execution_count": 41
        }
      ],
      "source": [
        "A[2:4]"
      ]
    },
    {
      "cell_type": "code",
      "execution_count": 42,
      "metadata": {
        "ExecuteTime": {
          "end_time": "2020-09-22T15:42:52.087442Z",
          "start_time": "2020-09-22T15:42:52.083387Z"
        },
        "colab": {
          "base_uri": "https://localhost:8080/"
        },
        "id": "yELPiSO4l8sJ",
        "outputId": "12f33cef-284f-432c-ea93-fdeb73490bc4"
      },
      "outputs": [
        {
          "output_type": "execute_result",
          "data": {
            "text/plain": [
              "array([[ 2,  3],\n",
              "       [11, 12],\n",
              "       [20, 21],\n",
              "       [29, 30],\n",
              "       [38, 39],\n",
              "       [47, 48],\n",
              "       [56, 57],\n",
              "       [65, 66],\n",
              "       [74, 75]])"
            ]
          },
          "metadata": {},
          "execution_count": 42
        }
      ],
      "source": [
        "A[:, 2:4]"
      ]
    },
    {
      "cell_type": "code",
      "execution_count": 43,
      "metadata": {
        "ExecuteTime": {
          "end_time": "2020-09-22T15:42:52.093678Z",
          "start_time": "2020-09-22T15:42:52.089478Z"
        },
        "colab": {
          "base_uri": "https://localhost:8080/"
        },
        "id": "tT3VHdKpl8sJ",
        "outputId": "acacd237-23d1-4766-937b-b5ce9f3234f5"
      },
      "outputs": [
        {
          "output_type": "execute_result",
          "data": {
            "text/plain": [
              "array([[20, 21],\n",
              "       [29, 30]])"
            ]
          },
          "metadata": {},
          "execution_count": 43
        }
      ],
      "source": [
        "A[2:4, 2:4]"
      ]
    },
    {
      "cell_type": "code",
      "execution_count": 44,
      "metadata": {
        "ExecuteTime": {
          "end_time": "2020-09-22T15:42:52.099303Z",
          "start_time": "2020-09-22T15:42:52.095614Z"
        },
        "colab": {
          "base_uri": "https://localhost:8080/"
        },
        "id": "d5FAXmhZl8sJ",
        "outputId": "4434b558-1fc3-4913-b3c8-457b0e8a9cf9"
      },
      "outputs": [
        {
          "output_type": "execute_result",
          "data": {
            "text/plain": [
              "array([72, 73, 74, 75, 76, 77, 78, 79, 80])"
            ]
          },
          "metadata": {},
          "execution_count": 44
        }
      ],
      "source": [
        "A[-1]"
      ]
    },
    {
      "cell_type": "markdown",
      "metadata": {
        "id": "jNsqSGlNl8sJ"
      },
      "source": [
        "* Также может использоваться индексация при помощи списков индексов (по каждой из осей):"
      ]
    },
    {
      "cell_type": "code",
      "execution_count": 45,
      "metadata": {
        "ExecuteTime": {
          "end_time": "2020-09-22T15:42:52.108235Z",
          "start_time": "2020-09-22T15:42:52.101451Z"
        },
        "colab": {
          "base_uri": "https://localhost:8080/"
        },
        "id": "Qbj6YLF5l8sJ",
        "outputId": "916373bd-eb21-4371-a556-077dfeffd29d"
      },
      "outputs": [
        {
          "output_type": "execute_result",
          "data": {
            "text/plain": [
              "array([[ 0,  1,  2,  3,  4,  5,  6,  7,  8],\n",
              "       [ 9, 10, 11, 12, 13, 14, 15, 16, 17],\n",
              "       [18, 19, 20, 21, 22, 23, 24, 25, 26],\n",
              "       [27, 28, 29, 30, 31, 32, 33, 34, 35],\n",
              "       [36, 37, 38, 39, 40, 41, 42, 43, 44],\n",
              "       [45, 46, 47, 48, 49, 50, 51, 52, 53],\n",
              "       [54, 55, 56, 57, 58, 59, 60, 61, 62],\n",
              "       [63, 64, 65, 66, 67, 68, 69, 70, 71],\n",
              "       [72, 73, 74, 75, 76, 77, 78, 79, 80]])"
            ]
          },
          "metadata": {},
          "execution_count": 45
        }
      ],
      "source": [
        "A = np.arange(81).reshape(9, -1)\n",
        "A"
      ]
    },
    {
      "cell_type": "code",
      "execution_count": 46,
      "metadata": {
        "ExecuteTime": {
          "end_time": "2020-09-22T15:42:52.116476Z",
          "start_time": "2020-09-22T15:42:52.110224Z"
        },
        "colab": {
          "base_uri": "https://localhost:8080/"
        },
        "id": "eZr5Vkmvl8sJ",
        "outputId": "8c6e9024-8156-4b0b-d5ab-804b91dd70f3"
      },
      "outputs": [
        {
          "output_type": "execute_result",
          "data": {
            "text/plain": [
              "array([18, 37, 48])"
            ]
          },
          "metadata": {},
          "execution_count": 46
        }
      ],
      "source": [
        "A[[2, 4, 5], [0, 1, 3]]"
      ]
    },
    {
      "cell_type": "markdown",
      "metadata": {
        "id": "mxT_bbL2l8sJ"
      },
      "source": [
        "* Может применяться логическая индексация (при помощи логических массивов):"
      ]
    },
    {
      "cell_type": "code",
      "execution_count": 47,
      "metadata": {
        "ExecuteTime": {
          "end_time": "2020-09-22T15:42:52.121334Z",
          "start_time": "2020-09-22T15:42:52.117919Z"
        },
        "colab": {
          "base_uri": "https://localhost:8080/"
        },
        "id": "EBqYYWhIl8sJ",
        "outputId": "ec20ad70-f56f-49d5-d6c7-86db6d6eae46"
      },
      "outputs": [
        {
          "output_type": "execute_result",
          "data": {
            "text/plain": [
              "array([ 0,  1,  2,  3,  4,  5,  6,  7,  8,  9, 10])"
            ]
          },
          "metadata": {},
          "execution_count": 47
        }
      ],
      "source": [
        "A = np.arange(11)\n",
        "A"
      ]
    },
    {
      "cell_type": "code",
      "execution_count": 48,
      "metadata": {
        "ExecuteTime": {
          "end_time": "2020-09-22T15:42:52.127505Z",
          "start_time": "2020-09-22T15:42:52.123314Z"
        },
        "colab": {
          "base_uri": "https://localhost:8080/"
        },
        "id": "kJ4hQq8tl8sK",
        "outputId": "ebb4b944-9b9a-469f-cea8-3e6e6f3c7449"
      },
      "outputs": [
        {
          "output_type": "execute_result",
          "data": {
            "text/plain": [
              "array([ 0,  1,  2,  4,  5,  6,  7,  9, 10])"
            ]
          },
          "metadata": {},
          "execution_count": 48
        }
      ],
      "source": [
        "A[A % 5 != 3]"
      ]
    },
    {
      "cell_type": "code",
      "execution_count": 49,
      "metadata": {
        "ExecuteTime": {
          "end_time": "2020-09-22T15:42:52.134183Z",
          "start_time": "2020-09-22T15:42:52.129853Z"
        },
        "colab": {
          "base_uri": "https://localhost:8080/"
        },
        "id": "IdTTxDOTl8sK",
        "outputId": "45ecc52f-9cdc-49a8-b770-0f7d49a01aa3"
      },
      "outputs": [
        {
          "output_type": "execute_result",
          "data": {
            "text/plain": [
              "array([ 0,  1,  2,  4,  5,  6,  9, 10])"
            ]
          },
          "metadata": {},
          "execution_count": 49
        }
      ],
      "source": [
        "A[np.logical_and(A != 7, A % 5 != 3)] # также можно использовать логические операции"
      ]
    },
    {
      "cell_type": "markdown",
      "metadata": {
        "id": "CFP1j3yQl8sK"
      },
      "source": [
        "#### Зачем?\n",
        "\n",
        "Зачем необходимо использовать NumPy, если существуют стандартные списки/кортежи и циклы?\n",
        "\n",
        "Причина заключается в скорости работы. Попробуем посчитать скалярное произведение 2 больших векторов:"
      ]
    },
    {
      "cell_type": "code",
      "execution_count": 50,
      "metadata": {
        "ExecuteTime": {
          "end_time": "2020-09-22T15:42:53.481301Z",
          "start_time": "2020-09-22T15:42:52.136072Z"
        },
        "id": "TumEYU-rl8sK"
      },
      "outputs": [],
      "source": [
        "SIZE = 10000000\n",
        "\n",
        "A_quick_arr = np.random.normal(size = (SIZE,))\n",
        "B_quick_arr = np.random.normal(size = (SIZE,))\n",
        "\n",
        "A_slow_list, B_slow_list = list(A_quick_arr), list(B_quick_arr)"
      ]
    },
    {
      "cell_type": "code",
      "execution_count": 51,
      "metadata": {
        "ExecuteTime": {
          "end_time": "2020-09-22T15:42:56.303195Z",
          "start_time": "2020-09-22T15:42:53.483058Z"
        },
        "colab": {
          "base_uri": "https://localhost:8080/"
        },
        "id": "RIbv4yoEl8sK",
        "outputId": "edeb1ec1-69f7-454c-b12c-a8f83171d9c0"
      },
      "outputs": [
        {
          "output_type": "stream",
          "name": "stdout",
          "text": [
            "CPU times: user 2.92 s, sys: 6.69 ms, total: 2.93 s\n",
            "Wall time: 2.93 s\n"
          ]
        }
      ],
      "source": [
        "%%time\n",
        "ans = 0\n",
        "for i in range(len(A_slow_list)):\n",
        "    ans += A_slow_list[i] * B_slow_list[i]"
      ]
    },
    {
      "cell_type": "code",
      "execution_count": 52,
      "metadata": {
        "ExecuteTime": {
          "end_time": "2020-09-22T15:42:58.772193Z",
          "start_time": "2020-09-22T15:42:56.304960Z"
        },
        "colab": {
          "base_uri": "https://localhost:8080/"
        },
        "id": "IgaRJuOpl8sK",
        "outputId": "4214b3e4-6a01-435e-bc6a-090ac0793c0a"
      },
      "outputs": [
        {
          "output_type": "stream",
          "name": "stdout",
          "text": [
            "CPU times: user 1.98 s, sys: 282 ms, total: 2.26 s\n",
            "Wall time: 2.26 s\n"
          ]
        }
      ],
      "source": [
        "%%time\n",
        "ans = sum([A_slow_list[i] * B_slow_list[i] for i in range(SIZE)])"
      ]
    },
    {
      "cell_type": "code",
      "execution_count": 53,
      "metadata": {
        "ExecuteTime": {
          "end_time": "2020-09-22T15:42:58.804583Z",
          "start_time": "2020-09-22T15:42:58.773657Z"
        },
        "colab": {
          "base_uri": "https://localhost:8080/"
        },
        "id": "Z3NIFonHl8sK",
        "outputId": "2475cd8b-8ba2-4d16-f99f-952fa3df4280"
      },
      "outputs": [
        {
          "output_type": "stream",
          "name": "stdout",
          "text": [
            "CPU times: user 27.8 ms, sys: 13.9 ms, total: 41.8 ms\n",
            "Wall time: 41.9 ms\n"
          ]
        }
      ],
      "source": [
        "%%time\n",
        "ans = np.sum(A_quick_arr * B_quick_arr)"
      ]
    },
    {
      "cell_type": "code",
      "execution_count": 54,
      "metadata": {
        "ExecuteTime": {
          "end_time": "2020-09-22T15:42:58.818620Z",
          "start_time": "2020-09-22T15:42:58.807193Z"
        },
        "colab": {
          "base_uri": "https://localhost:8080/"
        },
        "id": "aM0SuCkil8sL",
        "outputId": "bcd87746-5ce9-4f85-be60-d4c7d674249f"
      },
      "outputs": [
        {
          "output_type": "stream",
          "name": "stdout",
          "text": [
            "CPU times: user 24.9 ms, sys: 0 ns, total: 24.9 ms\n",
            "Wall time: 18.1 ms\n"
          ]
        }
      ],
      "source": [
        "%%time\n",
        "ans = A_quick_arr.dot(B_quick_arr)"
      ]
    },
    {
      "cell_type": "markdown",
      "metadata": {
        "id": "4itKr-7nl8sL"
      },
      "source": [
        "NumPy работает быстро по нескольким причинам:\n",
        "* Массивы хранятся в непрерывном участке памяти, а все элементы имеют один и тот же тип\n",
        "* Для вычислений по возможности используются библиотеки линейной алгебры вроде BLAS\n",
        "\n",
        "Посмотреть, какая библиотека используется у вас, можно в конфигурации NumPy:"
      ]
    },
    {
      "cell_type": "code",
      "execution_count": 55,
      "metadata": {
        "ExecuteTime": {
          "end_time": "2020-09-22T15:42:58.983297Z",
          "start_time": "2020-09-22T15:42:58.820808Z"
        },
        "scrolled": false,
        "colab": {
          "base_uri": "https://localhost:8080/"
        },
        "id": "zf_8zXbgl8sL",
        "outputId": "c973923e-02fb-4a9f-a5e9-e04cd2c2c45f"
      },
      "outputs": [
        {
          "output_type": "stream",
          "name": "stdout",
          "text": [
            "Build Dependencies:\n",
            "  blas:\n",
            "    detection method: pkgconfig\n",
            "    found: true\n",
            "    include directory: /opt/_internal/cpython-3.12.2/lib/python3.12/site-packages/scipy_openblas64/include\n",
            "    lib directory: /opt/_internal/cpython-3.12.2/lib/python3.12/site-packages/scipy_openblas64/lib\n",
            "    name: scipy-openblas\n",
            "    openblas configuration: OpenBLAS 0.3.27  USE64BITINT DYNAMIC_ARCH NO_AFFINITY\n",
            "      Zen MAX_THREADS=64\n",
            "    pc file directory: /project/.openblas\n",
            "    version: 0.3.27\n",
            "  lapack:\n",
            "    detection method: pkgconfig\n",
            "    found: true\n",
            "    include directory: /opt/_internal/cpython-3.12.2/lib/python3.12/site-packages/scipy_openblas64/include\n",
            "    lib directory: /opt/_internal/cpython-3.12.2/lib/python3.12/site-packages/scipy_openblas64/lib\n",
            "    name: scipy-openblas\n",
            "    openblas configuration: OpenBLAS 0.3.27  USE64BITINT DYNAMIC_ARCH NO_AFFINITY\n",
            "      Zen MAX_THREADS=64\n",
            "    pc file directory: /project/.openblas\n",
            "    version: 0.3.27\n",
            "Compilers:\n",
            "  c:\n",
            "    commands: cc\n",
            "    linker: ld.bfd\n",
            "    name: gcc\n",
            "    version: 10.2.1\n",
            "  c++:\n",
            "    commands: c++\n",
            "    linker: ld.bfd\n",
            "    name: gcc\n",
            "    version: 10.2.1\n",
            "  cython:\n",
            "    commands: cython\n",
            "    linker: cython\n",
            "    name: cython\n",
            "    version: 3.0.11\n",
            "Machine Information:\n",
            "  build:\n",
            "    cpu: x86_64\n",
            "    endian: little\n",
            "    family: x86_64\n",
            "    system: linux\n",
            "  host:\n",
            "    cpu: x86_64\n",
            "    endian: little\n",
            "    family: x86_64\n",
            "    system: linux\n",
            "Python Information:\n",
            "  path: /tmp/build-env-8744k94k/bin/python\n",
            "  version: '3.12'\n",
            "SIMD Extensions:\n",
            "  baseline:\n",
            "  - SSE\n",
            "  - SSE2\n",
            "  - SSE3\n",
            "  found:\n",
            "  - SSSE3\n",
            "  - SSE41\n",
            "  - POPCNT\n",
            "  - SSE42\n",
            "  - AVX\n",
            "  - F16C\n",
            "  - FMA3\n",
            "  - AVX2\n",
            "  not found:\n",
            "  - AVX512F\n",
            "  - AVX512CD\n",
            "  - AVX512_KNL\n",
            "  - AVX512_KNM\n",
            "  - AVX512_SKX\n",
            "  - AVX512_CLX\n",
            "  - AVX512_CNL\n",
            "  - AVX512_ICL\n",
            "\n",
            "None\n"
          ]
        }
      ],
      "source": [
        "print(np.show_config())"
      ]
    },
    {
      "cell_type": "markdown",
      "metadata": {
        "id": "1ivnFvtbl8sL"
      },
      "source": [
        "### Примеры векторизации вычислений на NumPy\n"
      ]
    },
    {
      "cell_type": "markdown",
      "metadata": {
        "id": "Qf3dos5dl8sL"
      },
      "source": [
        "Разберём несколько задач (из [100 numpy exercises](http://www.labri.fr/perso/nrougier/teaching/numpy.100/)), где NumPy может существенно ускорить вычисления и упростить код."
      ]
    },
    {
      "cell_type": "markdown",
      "metadata": {
        "id": "IUPa3JPwl8sL"
      },
      "source": [
        "Дан четырёхмерный массив. Как получить двумерный массив, в котором элемент с индексами $(i, j)$ содержит сумму всех элементов исходного массива, у которых первые два индекса — это $(i, j)$?"
      ]
    },
    {
      "cell_type": "code",
      "execution_count": 56,
      "metadata": {
        "ExecuteTime": {
          "end_time": "2020-09-22T15:42:58.988860Z",
          "start_time": "2020-09-22T15:42:58.985170Z"
        },
        "colab": {
          "base_uri": "https://localhost:8080/"
        },
        "id": "svIg-3Ckl8sL",
        "outputId": "3d81c549-63cb-47ff-ab0b-4907be768a0b"
      },
      "outputs": [
        {
          "output_type": "stream",
          "name": "stdout",
          "text": [
            "[[251666 254262 243398 253529 234342]\n",
            " [261517 244781 257060 248497 254164]]\n"
          ]
        }
      ],
      "source": [
        "A = np.random.randint(0,1000,(2,5,20,25))\n",
        "res = A.reshape(A.shape[:-2] + (-1,)).sum(axis=-1)\n",
        "print(res)"
      ]
    },
    {
      "cell_type": "markdown",
      "metadata": {
        "id": "bUOCeL4Kl8sL"
      },
      "source": [
        "Даны одномерные массивы A и B. Элементы массива B принимают значения от 0 до `len(A) - 1`. Требуется прибавить единицу ко всем элементам A, чьи индексы записаны в B. Если индекс встречается в B несколько раз, то надо прибавить единицу для каждого такого вхождения."
      ]
    },
    {
      "cell_type": "code",
      "execution_count": 57,
      "metadata": {
        "ExecuteTime": {
          "end_time": "2020-09-22T15:42:59.001625Z",
          "start_time": "2020-09-22T15:42:58.990334Z"
        },
        "colab": {
          "base_uri": "https://localhost:8080/"
        },
        "id": "5wEsgZqTl8sM",
        "outputId": "0459858e-9707-449b-f474-8669a2bc10c8"
      },
      "outputs": [
        {
          "output_type": "stream",
          "name": "stdout",
          "text": [
            "[1. 1. 1. 1. 1. 1. 1. 1. 1. 1.]\n",
            "[2 5 7 5 5 7 6 0 6 5 0 6 7 1 2 9 6 5 6 4]\n",
            "[3. 2. 3. 1. 2. 6. 6. 4. 1. 2.]\n"
          ]
        }
      ],
      "source": [
        "A = np.ones(10)\n",
        "B = np.random.randint(0,len(A),20)\n",
        "print(A)\n",
        "print(B)\n",
        "A += np.bincount(B, minlength=len(A))\n",
        "print(A)"
      ]
    },
    {
      "cell_type": "markdown",
      "metadata": {
        "id": "Klb6DFjMl8sO"
      },
      "source": [
        "Даны одномерный массив A и число n. Вычислите массив B, в котором i-й элемент равен среднему значению элементов с i-го по (i+n-1)-й в массиве A."
      ]
    },
    {
      "cell_type": "code",
      "execution_count": 58,
      "metadata": {
        "ExecuteTime": {
          "end_time": "2020-09-22T15:42:59.009414Z",
          "start_time": "2020-09-22T15:42:59.004125Z"
        },
        "colab": {
          "base_uri": "https://localhost:8080/"
        },
        "id": "ft5F31n-l8sO",
        "outputId": "7ef8003c-eeb8-452b-b64c-696f0eeb1539"
      },
      "outputs": [
        {
          "output_type": "stream",
          "name": "stdout",
          "text": [
            "[7 8 3 4 5 8 4 0 5 9 3 5 4 2 8 4 4 9 0 6]\n",
            "[6.         5.         4.         5.66666667 5.66666667 4.\n",
            " 3.         4.66666667 5.66666667 5.66666667 4.         3.66666667\n",
            " 4.66666667 4.66666667 5.33333333 5.66666667 4.33333333 5.        ]\n"
          ]
        }
      ],
      "source": [
        "def moving_average(Z, n=3) :\n",
        "    ret = np.cumsum(Z, dtype=float)\n",
        "    ret[n:] = ret[n:] - ret[:-n]\n",
        "    return ret[n - 1:] / n\n",
        "A = np.random.randint(0, 10, 20)\n",
        "print(A)\n",
        "print(moving_average(A, n=3))"
      ]
    }
  ],
  "metadata": {
    "kernelspec": {
      "display_name": "Python 3",
      "language": "python",
      "name": "python3"
    },
    "language_info": {
      "codemirror_mode": {
        "name": "ipython",
        "version": 3
      },
      "file_extension": ".py",
      "mimetype": "text/x-python",
      "name": "python",
      "nbconvert_exporter": "python",
      "pygments_lexer": "ipython3",
      "version": "3.8.2"
    },
    "colab": {
      "provenance": []
    }
  },
  "nbformat": 4,
  "nbformat_minor": 0
}